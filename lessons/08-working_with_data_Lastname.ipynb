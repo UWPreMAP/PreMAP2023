{
 "cells": [
  {
   "cell_type": "markdown",
   "id": "8b1efced",
   "metadata": {},
   "source": [
    "[Pre-MAP Course Website](https://canvas.uw.edu/courses/1664580) | [Pre-MAP GitHub](https://github.com/UWPreMAP/PreMAP2023) | [Google](https://www.google.com)\n",
    "\n",
    "### Each time you access the PreMAP2023 directory make sure your files are up to date\n",
    "1. Open up a terminal tab (New -> Terminal). Change directories into the PreMAP2023 directory, do this via:\n",
    "```bash\n",
    "cd PreMAP2023\n",
    "```\n",
    "2. Update the directory to get any newly added files by running in the terminal:\n",
    "```bash\n",
    "git pull\n",
    "```\n",
    "Remember to change \"Lastname\" to your last name."
   ]
  },
  {
   "cell_type": "code",
   "execution_count": 1,
   "id": "75ae2d29",
   "metadata": {},
   "outputs": [],
   "source": [
    "import numpy as np\n",
    "import matplotlib.pyplot as plt\n",
    "\n",
    "%matplotlib inline"
   ]
  },
  {
   "cell_type": "markdown",
   "id": "cd69398a",
   "metadata": {},
   "source": [
    "# Python dictionary\n",
    "\n",
    "Before we talk about working with data, we're going to learn a new python type, the dictionary!\n",
    "\n",
    "A dictionary in python is kind of like a dictionary in the real world, it is an object that associates a reference to a value. This is similar to how a dictionary associates a word with a definition. \n",
    "\n",
    "In python, we can declare a dictionary with curly brackets {}. Inside the curly brackets, we write out keys and values, as so:"
   ]
  },
  {
   "cell_type": "code",
   "execution_count": 5,
   "id": "ee4dc250",
   "metadata": {},
   "outputs": [],
   "source": [
    "SampleDictionary = {\"Aardvark\": \"A type of animal\", \"Bear\": \"A kind of scary furry mammal\"}"
   ]
  },
  {
   "cell_type": "markdown",
   "id": "42e4be27",
   "metadata": {},
   "source": [
    "Dictionaries have two types of things in them, <b>keys</b> and <b>values</b>. Each <b>values</b> is associated with a <b>key</b>. When defining a dictionary, the key is on the left of the colon, and the value is on the right. Keys and values can be any type, in the example above both our keys and our values are strings, but they could be ints, or floats, or even lists.\n",
    "\n",
    "You can access the values from the dictionary by \"indexing\" into the dictionary with the key that is associated with that value, for example to see the definition for a \"Bear\" we type:"
   ]
  },
  {
   "cell_type": "code",
   "execution_count": 6,
   "id": "9e33d9b2",
   "metadata": {},
   "outputs": [
    {
     "data": {
      "text/plain": [
       "'A kind of scary furry mammal'"
      ]
     },
     "execution_count": 6,
     "metadata": {},
     "output_type": "execute_result"
    }
   ],
   "source": [
    "SampleDictionary[\"Bear\"]"
   ]
  },
  {
   "cell_type": "markdown",
   "id": "85d615c8",
   "metadata": {},
   "source": [
    "You can add a key, value pair to a dictionary by assigning that value to the key like a variable, as so:"
   ]
  },
  {
   "cell_type": "code",
   "execution_count": 7,
   "id": "f952d3e2",
   "metadata": {},
   "outputs": [
    {
     "name": "stdout",
     "output_type": "stream",
     "text": [
      "{'Aardvark': 'A type of animal', 'Bear': 'A kind of scary furry mammal', 'Fish': 'A swimming not-mammal'}\n"
     ]
    }
   ],
   "source": [
    "SampleDictionary[\"Fish\"] = \"A swimming not-mammal\"\n",
    "print(SampleDictionary)"
   ]
  },
  {
   "cell_type": "markdown",
   "id": "b467cd5d",
   "metadata": {},
   "source": [
    "Finally, you can print all of the keys or values for a dictionary by running `SampleDictionary.keys()` or `SampleDictionary.values()`"
   ]
  },
  {
   "cell_type": "code",
   "execution_count": 8,
   "id": "fff41634",
   "metadata": {},
   "outputs": [
    {
     "name": "stdout",
     "output_type": "stream",
     "text": [
      "dict_keys(['Aardvark', 'Bear', 'Fish'])\n",
      "dict_values(['A type of animal', 'A kind of scary furry mammal', 'A swimming not-mammal'])\n"
     ]
    }
   ],
   "source": [
    "print(SampleDictionary.keys())\n",
    "print(SampleDictionary.values())"
   ]
  },
  {
   "cell_type": "markdown",
   "id": "0ac2656b",
   "metadata": {},
   "source": [
    "## Example 1: Making your own dictionary\n",
    "\n",
    "A common code that people will use is to assign a number to each letter of the alphabet, such that A = 1, B = 2, etc. \n",
    "\n",
    "In the cell below, make your own dictionary where the keys are the first 5 letters of the alphabet, and the values is that letter's corresponding numerical value. Print out the dictionary, and access some of the values in the dictionary using the letters as keys."
   ]
  },
  {
   "cell_type": "code",
   "execution_count": null,
   "id": "cf51ec08",
   "metadata": {},
   "outputs": [],
   "source": []
  },
  {
   "cell_type": "markdown",
   "id": "273076dc",
   "metadata": {},
   "source": [
    "# Working with data and pandas\n",
    "\n",
    "`pandas` is a package that heavily builds upon this concept of a dictionary that we use to manage data.\n",
    "\n",
    "Run the cell below to import it. A common way to abbreviate `pandas` (like `numpy` as `np`) is as `pd`."
   ]
  },
  {
   "cell_type": "code",
   "execution_count": 15,
   "id": "9c2fdaac",
   "metadata": {},
   "outputs": [],
   "source": [
    "import pandas as pd"
   ]
  },
  {
   "cell_type": "markdown",
   "id": "4ec7d788",
   "metadata": {},
   "source": [
    "## The pandas dataframe\n",
    "\n",
    "`pandas` introduces a new type called a `dataframe`. If it helps, you can kind of think of it like an excel sheet, because it organizes data into columns and each column has a name. Thinking of it like a dictionary, the column name is the key and the column is the value.\n",
    "\n",
    "We can load a dataframe from a text file using the `read_csv` function in pandas. Run the cell below to load the `PlanetEvolution` file into a pandas dataframe. \n",
    "\n",
    "(Quick note here, a .csv file is a way to organize data, csv stands for comma-separated values. This means that the columns in the data are separated by commas, the `read_csv` function knows this and can tell which column is which by looking for those commas."
   ]
  },
  {
   "cell_type": "code",
   "execution_count": 16,
   "id": "e726993b",
   "metadata": {},
   "outputs": [],
   "source": [
    "data = pd.read_csv(\"data/PlanetEvolution.csv\")"
   ]
  },
  {
   "cell_type": "markdown",
   "id": "fec99d6a",
   "metadata": {},
   "source": [
    "So now we have this variable data that contains the `pandas` dataframe that holds the data from \"PlanetEvolution.csv\". Whenever we load a dataframe we want to get a feel for the data. The best way to do this is with the `.head()` function that every dataframe has access to. This will give us the first 5 rows of the data, try running the cell below to see what this function does.\n",
    "\n",
    "Getting a feel for the data\n",
    "Getting what you want from the dataframe"
   ]
  },
  {
   "cell_type": "code",
   "execution_count": 17,
   "id": "913b5aca",
   "metadata": {},
   "outputs": [
    {
     "data": {
      "text/html": [
       "<div>\n",
       "<style scoped>\n",
       "    .dataframe tbody tr th:only-of-type {\n",
       "        vertical-align: middle;\n",
       "    }\n",
       "\n",
       "    .dataframe tbody tr th {\n",
       "        vertical-align: top;\n",
       "    }\n",
       "\n",
       "    .dataframe thead th {\n",
       "        text-align: right;\n",
       "    }\n",
       "</style>\n",
       "<table border=\"1\" class=\"dataframe\">\n",
       "  <thead>\n",
       "    <tr style=\"text-align: right;\">\n",
       "      <th></th>\n",
       "      <th>Time</th>\n",
       "      <th>SurfWaterMass</th>\n",
       "      <th>EruptionRate</th>\n",
       "      <th>TMan</th>\n",
       "      <th>MagMom</th>\n",
       "    </tr>\n",
       "  </thead>\n",
       "  <tbody>\n",
       "    <tr>\n",
       "      <th>0</th>\n",
       "      <td>0.00</td>\n",
       "      <td>1.864983</td>\n",
       "      <td>3.221604e+15</td>\n",
       "      <td>2976.163000</td>\n",
       "      <td>0.0</td>\n",
       "    </tr>\n",
       "    <tr>\n",
       "      <th>1</th>\n",
       "      <td>0.01</td>\n",
       "      <td>1.657204</td>\n",
       "      <td>4.227407e+10</td>\n",
       "      <td>2515.928065</td>\n",
       "      <td>0.0</td>\n",
       "    </tr>\n",
       "    <tr>\n",
       "      <th>2</th>\n",
       "      <td>0.02</td>\n",
       "      <td>1.445770</td>\n",
       "      <td>2.338786e+10</td>\n",
       "      <td>2488.819349</td>\n",
       "      <td>0.0</td>\n",
       "    </tr>\n",
       "    <tr>\n",
       "      <th>3</th>\n",
       "      <td>0.03</td>\n",
       "      <td>1.234176</td>\n",
       "      <td>1.716540e+10</td>\n",
       "      <td>2472.629132</td>\n",
       "      <td>0.0</td>\n",
       "    </tr>\n",
       "    <tr>\n",
       "      <th>4</th>\n",
       "      <td>0.04</td>\n",
       "      <td>1.022522</td>\n",
       "      <td>1.395316e+10</td>\n",
       "      <td>2461.071795</td>\n",
       "      <td>0.0</td>\n",
       "    </tr>\n",
       "  </tbody>\n",
       "</table>\n",
       "</div>"
      ],
      "text/plain": [
       "   Time  SurfWaterMass  EruptionRate         TMan  MagMom\n",
       "0  0.00       1.864983  3.221604e+15  2976.163000     0.0\n",
       "1  0.01       1.657204  4.227407e+10  2515.928065     0.0\n",
       "2  0.02       1.445770  2.338786e+10  2488.819349     0.0\n",
       "3  0.03       1.234176  1.716540e+10  2472.629132     0.0\n",
       "4  0.04       1.022522  1.395316e+10  2461.071795     0.0"
      ]
     },
     "execution_count": 17,
     "metadata": {},
     "output_type": "execute_result"
    }
   ],
   "source": [
    "data.head()"
   ]
  },
  {
   "cell_type": "markdown",
   "id": "09714fcf",
   "metadata": {},
   "source": [
    "Another helpful thing to get familiar with the data (especially if there are a lot of columns) is the `.columns` variable that every dataframe has available. This will return a numpy array that tells you all the columns in that dataframe. Run the cell below to see what it does."
   ]
  },
  {
   "cell_type": "code",
   "execution_count": 18,
   "id": "0137bfc9",
   "metadata": {},
   "outputs": [
    {
     "data": {
      "text/plain": [
       "Index(['Time', 'SurfWaterMass', 'EruptionRate', 'TMan', 'MagMom'], dtype='object')"
      ]
     },
     "execution_count": 18,
     "metadata": {},
     "output_type": "execute_result"
    }
   ],
   "source": [
    "data.columns"
   ]
  },
  {
   "cell_type": "markdown",
   "id": "d3acbd5e",
   "metadata": {},
   "source": [
    "Finally, let's get data from this dataframe. Pandas dataframes work very similarly to a python dictionary, you get the data in the column by \"indexing\" into the dataframe with the name of the column, like below:"
   ]
  },
  {
   "cell_type": "code",
   "execution_count": 19,
   "id": "65033aa7",
   "metadata": {},
   "outputs": [
    {
     "data": {
      "text/plain": [
       "0      0.00\n",
       "1      0.01\n",
       "2      0.02\n",
       "3      0.03\n",
       "4      0.04\n",
       "       ... \n",
       "446    4.46\n",
       "447    4.47\n",
       "448    4.48\n",
       "449    4.49\n",
       "450    4.50\n",
       "Name: Time, Length: 451, dtype: float64"
      ]
     },
     "execution_count": 19,
     "metadata": {},
     "output_type": "execute_result"
    }
   ],
   "source": [
    "data[\"Time\"]"
   ]
  },
  {
   "cell_type": "markdown",
   "id": "a4fb740c",
   "metadata": {},
   "source": [
    "Notice that this looks a little different to a numpy array, this is actually a `pandas` <b>Series</b> (which you can read more about <a href=\"https://pandas.pydata.org/docs/reference/api/pandas.Series.html\">here</a> and <a href=\"https://towardsdatascience.com/a-practical-introduction-to-pandas-series-9915521cdc69\">here</a>). A Series works a little differently than a numpy array does, but it's easy to get the numpy array from the series, just use the `.values` command that is part of every Series."
   ]
  },
  {
   "cell_type": "code",
   "execution_count": 21,
   "id": "0b2cde85",
   "metadata": {},
   "outputs": [
    {
     "name": "stdout",
     "output_type": "stream",
     "text": [
      "[0.   0.01 0.02 0.03 0.04 0.05 0.06 0.07 0.08 0.09 0.1  0.11 0.12 0.13\n",
      " 0.14 0.15 0.16 0.17 0.18 0.19 0.2  0.21 0.22 0.23 0.24 0.25 0.26 0.27\n",
      " 0.28 0.29 0.3  0.31 0.32 0.33 0.34 0.35 0.36 0.37 0.38 0.39 0.4  0.41\n",
      " 0.42 0.43 0.44 0.45 0.46 0.47 0.48 0.49 0.5  0.51 0.52 0.53 0.54 0.55\n",
      " 0.56 0.57 0.58 0.59 0.6  0.61 0.62 0.63 0.64 0.65 0.66 0.67 0.68 0.69\n",
      " 0.7  0.71 0.72 0.73 0.74 0.75 0.76 0.77 0.78 0.79 0.8  0.81 0.82 0.83\n",
      " 0.84 0.85 0.86 0.87 0.88 0.89 0.9  0.91 0.92 0.93 0.94 0.95 0.96 0.97\n",
      " 0.98 0.99 1.   1.01 1.02 1.03 1.04 1.05 1.06 1.07 1.08 1.09 1.1  1.11\n",
      " 1.12 1.13 1.14 1.15 1.16 1.17 1.18 1.19 1.2  1.21 1.22 1.23 1.24 1.25\n",
      " 1.26 1.27 1.28 1.29 1.3  1.31 1.32 1.33 1.34 1.35 1.36 1.37 1.38 1.39\n",
      " 1.4  1.41 1.42 1.43 1.44 1.45 1.46 1.47 1.48 1.49 1.5  1.51 1.52 1.53\n",
      " 1.54 1.55 1.56 1.57 1.58 1.59 1.6  1.61 1.62 1.63 1.64 1.65 1.66 1.67\n",
      " 1.68 1.69 1.7  1.71 1.72 1.73 1.74 1.75 1.76 1.77 1.78 1.79 1.8  1.81\n",
      " 1.82 1.83 1.84 1.85 1.86 1.87 1.88 1.89 1.9  1.91 1.92 1.93 1.94 1.95\n",
      " 1.96 1.97 1.98 1.99 2.   2.01 2.02 2.03 2.04 2.05 2.06 2.07 2.08 2.09\n",
      " 2.1  2.11 2.12 2.13 2.14 2.15 2.16 2.17 2.18 2.19 2.2  2.21 2.22 2.23\n",
      " 2.24 2.25 2.26 2.27 2.28 2.29 2.3  2.31 2.32 2.33 2.34 2.35 2.36 2.37\n",
      " 2.38 2.39 2.4  2.41 2.42 2.43 2.44 2.45 2.46 2.47 2.48 2.49 2.5  2.51\n",
      " 2.52 2.53 2.54 2.55 2.56 2.57 2.58 2.59 2.6  2.61 2.62 2.63 2.64 2.65\n",
      " 2.66 2.67 2.68 2.69 2.7  2.71 2.72 2.73 2.74 2.75 2.76 2.77 2.78 2.79\n",
      " 2.8  2.81 2.82 2.83 2.84 2.85 2.86 2.87 2.88 2.89 2.9  2.91 2.92 2.93\n",
      " 2.94 2.95 2.96 2.97 2.98 2.99 3.   3.01 3.02 3.03 3.04 3.05 3.06 3.07\n",
      " 3.08 3.09 3.1  3.11 3.12 3.13 3.14 3.15 3.16 3.17 3.18 3.19 3.2  3.21\n",
      " 3.22 3.23 3.24 3.25 3.26 3.27 3.28 3.29 3.3  3.31 3.32 3.33 3.34 3.35\n",
      " 3.36 3.37 3.38 3.39 3.4  3.41 3.42 3.43 3.44 3.45 3.46 3.47 3.48 3.49\n",
      " 3.5  3.51 3.52 3.53 3.54 3.55 3.56 3.57 3.58 3.59 3.6  3.61 3.62 3.63\n",
      " 3.64 3.65 3.66 3.67 3.68 3.69 3.7  3.71 3.72 3.73 3.74 3.75 3.76 3.77\n",
      " 3.78 3.79 3.8  3.81 3.82 3.83 3.84 3.85 3.86 3.87 3.88 3.89 3.9  3.91\n",
      " 3.92 3.93 3.94 3.95 3.96 3.97 3.98 3.99 4.   4.01 4.02 4.03 4.04 4.05\n",
      " 4.06 4.07 4.08 4.09 4.1  4.11 4.12 4.13 4.14 4.15 4.16 4.17 4.18 4.19\n",
      " 4.2  4.21 4.22 4.23 4.24 4.25 4.26 4.27 4.28 4.29 4.3  4.31 4.32 4.33\n",
      " 4.34 4.35 4.36 4.37 4.38 4.39 4.4  4.41 4.42 4.43 4.44 4.45 4.46 4.47\n",
      " 4.48 4.49 4.5 ]\n",
      "<class 'pandas.core.series.Series'>\n",
      "<class 'numpy.ndarray'>\n"
     ]
    }
   ],
   "source": [
    "print(data[\"Time\"].values)\n",
    "print(type(data[\"Time\"]))\n",
    "print(type(data[\"Time\"].values))"
   ]
  },
  {
   "cell_type": "markdown",
   "id": "e10675f0",
   "metadata": {},
   "source": [
    "## Example 2: Getting data from a pandas dataframe\n",
    "\n",
    "Print the Time column of the data, and the SurfWaterMass column. Then, plot the SurfWaterMass column by the Time column."
   ]
  },
  {
   "cell_type": "code",
   "execution_count": null,
   "id": "8b02790f",
   "metadata": {},
   "outputs": [],
   "source": []
  }
 ],
 "metadata": {
  "kernelspec": {
   "display_name": "Python 3 (ipykernel)",
   "language": "python",
   "name": "python3"
  },
  "language_info": {
   "codemirror_mode": {
    "name": "ipython",
    "version": 3
   },
   "file_extension": ".py",
   "mimetype": "text/x-python",
   "name": "python",
   "nbconvert_exporter": "python",
   "pygments_lexer": "ipython3",
   "version": "3.9.7"
  }
 },
 "nbformat": 4,
 "nbformat_minor": 5
}
