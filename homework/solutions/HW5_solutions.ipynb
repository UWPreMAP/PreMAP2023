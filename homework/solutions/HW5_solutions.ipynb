{
 "cells": [
  {
   "cell_type": "markdown",
   "metadata": {},
   "source": [
    "**<font color='red'>Change the name from assignment_lastname to include YOUR last name</font>**. This will make sure that the assignment doesn't get overwritten when you do a git pull in class. "
   ]
  },
  {
   "cell_type": "markdown",
   "metadata": {},
   "source": [
    "# Homework 5B - the coding portion"
   ]
  },
  {
   "cell_type": "markdown",
   "metadata": {},
   "source": [
    "## Due: Monday, October 30 by 11:59pm"
   ]
  },
  {
   "cell_type": "markdown",
   "metadata": {},
   "source": [
    "Skills: Loops, lists, functions"
   ]
  },
  {
   "cell_type": "markdown",
   "metadata": {},
   "source": [
    "Turn in instructions:\n",
    "\n",
    "As long as you have this saved on the JupyterHub, I'll have access to it!"
   ]
  },
  {
   "cell_type": "markdown",
   "metadata": {},
   "source": [
    "Always start with your import statement!"
   ]
  },
  {
   "cell_type": "code",
   "execution_count": 1,
   "metadata": {
    "tags": []
   },
   "outputs": [],
   "source": [
    "import numpy as np"
   ]
  },
  {
   "cell_type": "markdown",
   "metadata": {},
   "source": [
    "**Please read before completing exercise 1**\n",
    "Functions are a really useful tool for automating tasks that you want to do over and over again. For this first excercise, we will be building up to writing a function that calculates the Schwarzschild radius, or the size of the event horizon, of a black hole. You can read up a bit more on the Schwarzschild radius [here](http://www.astronomy.ohio-state.edu/~thompson/1144/Lecture19.html) if you would like. The only thing you're really going to need to know is the equation use to calculate the Schwarzschild radius: <br>\n",
    "$R_{S} = \\frac{2\\ G\\ M_{BH}}{c^{2}}$ <br>\n",
    "Where $R_{S}$ is the Schwarzschild radius, or radius of the event horizon. $G$ is the gravitational constant, a physical constant used to calculate gravitational effects. $M_{BH}$ is the mass of the black hole and $c$ is the speed of light, another physical constant."
   ]
  },
  {
   "cell_type": "markdown",
   "metadata": {},
   "source": [
    "First, we need to define our constants: $G$ and $c$. I'm putting in the values for you below, you just need to execute the cell. Note that astronomers use a base set of units called ``cgs``, short for centimeters-grams-seconds. Many of you might be familiar with SI units from a physics class which uses meters-kilograms-seconds. We keep all constants in the same base units to avoid doing too much unit conversion."
   ]
  },
  {
   "cell_type": "code",
   "execution_count": 2,
   "metadata": {
    "tags": []
   },
   "outputs": [],
   "source": [
    "G = 6.6725985E-8 #cm^3 g^-1 s^-2\n",
    "c = 2.99792458E10 #cm s^-1"
   ]
  },
  {
   "cell_type": "markdown",
   "metadata": {},
   "source": [
    "**1)**\n",
    "Use the equation above to calculate the size of the Schwarzschild radius for a black hole with a mass of 10$M_{\\odot}$. Note that $1 M_{\\odot}=1.99 \\times 10^{33}$ grams. You will need to multiply 10 by this conversion factor to use the constants above and have your units work out."
   ]
  },
  {
   "cell_type": "code",
   "execution_count": 3,
   "metadata": {
    "tags": []
   },
   "outputs": [
    {
     "name": "stdout",
     "output_type": "stream",
     "text": [
      "2954858.303829219  cm\n"
     ]
    }
   ],
   "source": [
    "M_BH = 10 * 1.99e33 # grams\n",
    "\n",
    "R_s = 2 * G * M_BH / c ** 2\n",
    "print(R_s, \" cm\")"
   ]
  },
  {
   "cell_type": "code",
   "execution_count": 4,
   "metadata": {
    "tags": []
   },
   "outputs": [
    {
     "name": "stdout",
     "output_type": "stream",
     "text": [
      "29.548583038292193  km\n"
     ]
    }
   ],
   "source": [
    "# Radius in km\n",
    "print(2954858.303829219 / (100 * 1000), \" km\") # 100 cm to 1 m, 1000m to 1km"
   ]
  },
  {
   "cell_type": "code",
   "execution_count": 5,
   "metadata": {},
   "outputs": [
    {
     "name": "stdout",
     "output_type": "stream",
     "text": [
      "2954858.303829219 cm\n"
     ]
    }
   ],
   "source": [
    "M_sun = 1.99 * 10 ** 33 # grams (also can write as 1.99E33)\n",
    "M_BH = 10 * M_sun # mass of black hole is 10 solar masses\n",
    "\n",
    "R_s = 2 * G * M_BH / c ** 2\n",
    "print(R_s , \"cm\") # this is in centimeters"
   ]
  },
  {
   "cell_type": "markdown",
   "metadata": {},
   "source": [
    "**2)**\n",
    "Write a function called `calc_schwarzschild_radius` that takes in a black hole mass in grams and returns the Schwarzschild radius in centimeters. Please refer to our in class notebook on functions if you need to remember the structure a function has in python. Run your function and print out the Schwarzschild radius of a black hole with a mass of $1M_{\\odot}$."
   ]
  },
  {
   "cell_type": "code",
   "execution_count": 6,
   "metadata": {
    "tags": []
   },
   "outputs": [],
   "source": [
    "# Define your function in this cell\n",
    "def calc_schwarzschild_radius(black_hole_mass):\n",
    "    '''\n",
    "    Calculates the Schwarzschild Radius of a black hole in centmeters\n",
    "    \n",
    "    Input: \n",
    "        black_hole_mass: mass of the black hole in grams\n",
    "    Output: \n",
    "        R_s: the Schwarzschild Radius in centimeters\n",
    "    '''\n",
    "    # Define constants c and G\n",
    "    G = 6.6725985E-8 #cm^3 g^-1 s^-2\n",
    "    c = 2.99792458E10 #cm s^-1\n",
    "    \n",
    "    M_BH = black_hole_mass # * 1.99e33 # now in grams\n",
    "    R_s = 2 * G * M_BH / c ** 2\n",
    "    return R_s\n"
   ]
  },
  {
   "cell_type": "code",
   "execution_count": 7,
   "metadata": {
    "tags": []
   },
   "outputs": [
    {
     "data": {
      "text/plain": [
       "295485.8303829219"
      ]
     },
     "execution_count": 7,
     "metadata": {},
     "output_type": "execute_result"
    }
   ],
   "source": [
    "# Run your function with an input of a single solar mass in this cell\n",
    "calc_schwarzschild_radius(1.99e33)"
   ]
  },
  {
   "cell_type": "markdown",
   "metadata": {},
   "source": [
    "**3)** Copy your function into the cell below and modify it so that it returns the Schwarzschild radius in both cm and solar radii (X times the radius of the Sun). *Hint: $1 R_{\\odot}=6.96 \\times 10^{10}$ cm.*"
   ]
  },
  {
   "cell_type": "code",
   "execution_count": 8,
   "metadata": {
    "tags": []
   },
   "outputs": [],
   "source": [
    "# Define your function in this cell\n",
    "def calc_schwarzschild_radius(black_hole_mass):\n",
    "    '''\n",
    "    Calculates the Schwarzschild Radius of a black hole in centmeters\n",
    "    \n",
    "    Input: \n",
    "        black_hole_mass: mass of the black hole in solar masses\n",
    "    Output: \n",
    "        R_s_cm: the Schwarzschild Radius in centimeters\n",
    "        R_s_sun: the Schwarzschild Radius in solar radii\n",
    "    '''\n",
    "    # Define constants c and G\n",
    "    G = 6.6725985E-8 #cm^3 g^-1 s^-2\n",
    "    c = 2.99792458E10 #cm s^-1\n",
    "    M_sun = 1.99 * 10 ** 33 # grams (also can write as 1.99E33)\n",
    "    R_sun = 6.96E10 # cm\n",
    "\n",
    "    R_s_cm = 2 * G * black_hole_mass / c ** 2\n",
    "    R_s_sun = R_s_cm / R_sun\n",
    "    \n",
    "    return R_s_cm, 4, R_s_sun"
   ]
  },
  {
   "cell_type": "code",
   "execution_count": 9,
   "metadata": {
    "tags": []
   },
   "outputs": [
    {
     "data": {
      "text/plain": [
       "(295485.8303829219, 4, 4.2454860687201425e-06)"
      ]
     },
     "execution_count": 9,
     "metadata": {},
     "output_type": "execute_result"
    }
   ],
   "source": [
    "# Run your function with an input of a single solar mass in this cell\n",
    "calc_schwarzschild_radius(1.99e33)"
   ]
  },
  {
   "cell_type": "markdown",
   "metadata": {},
   "source": [
    "**4)** Now imagine that we could make a black hole out of the Earth (we can't). The mass of the Earth is $5.9 \\times 10^{27}$ grams. Calculate what the Earth's mass is in terms of solar masses and then use your function to calculate the Schwarzschild radius the Earth would have if it could collapse into a black hole. You can use <a href=https://www.wolframalpha.com/>WolframAlpha</a>, an online calculator to work with units. If you type in the value and the units (e.g., 10 kg) WolframAlpha will give you some other things that have around that value. What other things are around the size that Earth would need to be to collapse into a black hole?"
   ]
  },
  {
   "cell_type": "code",
   "execution_count": 10,
   "metadata": {
    "tags": []
   },
   "outputs": [
    {
     "data": {
      "text/plain": [
       "(0.8760635172156983, 4, 1.258711950022555e-11)"
      ]
     },
     "execution_count": 10,
     "metadata": {},
     "output_type": "execute_result"
    }
   ],
   "source": [
    "# Run your function for the Earth's mass in units of solar masses\n",
    "\n",
    "M_earth = 5.9E27 # grams\n",
    "M_sun = 1.99 * 10 ** 33 # grams\n",
    "\n",
    "calc_schwarzschild_radius(M_earth) # .88cm is about the size of a small grape"
   ]
  },
  {
   "cell_type": "markdown",
   "metadata": {},
   "source": [
    "**5)**\n",
    "The mass of the black hole in the center of M87 that was measured by the Event Horizon Telescope team is $6.5\\times 10^{9} M_{\\odot}$. Calculate the radius of the event horizon for this black hole in both centimeters and solar radii."
   ]
  },
  {
   "cell_type": "code",
   "execution_count": 11,
   "metadata": {
    "tags": []
   },
   "outputs": [
    {
     "data": {
      "text/plain": [
       "(1920657897488992.5, 4, 27595.659446680926)"
      ]
     },
     "execution_count": 11,
     "metadata": {},
     "output_type": "execute_result"
    }
   ],
   "source": [
    "# Calculate the radius here\n",
    "calc_schwarzschild_radius(6.5e9 * 1.99e33)"
   ]
  },
  {
   "cell_type": "markdown",
   "metadata": {},
   "source": [
    "**6)** The ring diameter of M87 is given as ~$42 \\mu$as, or 42 micro-arcseconds. An arcsecond is a unit we us in astronomy to measure how big something looks on the sky. The size of an object in the sky depends on both the size of the object itself and its distance away from us. You can calculate the angular size of an object using the following equation: <br>\n",
    "$\\theta = \\frac{d\\ \\times\\ 206264}{D}$ arcseconds<br>\n",
    "Where $\\theta$ is the angular size of the object in arcseconds. The factor of 206,264 in the equation converts from radians to arcseconds for you. $d$ is the physical diameter of the object and D is the distance to that object. You need both $d$ and $D$ to be given in the same units. Here we will use centimeters. <br>\n",
    "\n",
    "Write a function called `calc_angular_size` that takes in the DIAMETER (not the radius) of an object in centimeters and the distance to that object in centimeters and returns its angular size in arcseconds. The distance to M87 is ~ $5 \\times 10^{25}$ centimeters. Use your function to print out the angular size of the black hole in M87 in arcseconds. Use the radius you calculated in the question above and the distance to M87 listed above for your calculations."
   ]
  },
  {
   "cell_type": "code",
   "execution_count": 12,
   "metadata": {
    "tags": []
   },
   "outputs": [],
   "source": [
    "# Write your function here\n",
    "def calc_angular_size(diameter, distance):\n",
    "    '''Calculates the angular of am object given its diameter and distance\n",
    "    Inputs: \n",
    "        diameter: the size of the object in centimeters\n",
    "        distance: the distance to the object in centimeters\n",
    "    \n",
    "    Outputs:\n",
    "        theta: the angular size of the object in arcseconds\n",
    "    '''\n",
    "    theta = diameter * 206265 / distance\n",
    "    return theta"
   ]
  },
  {
   "cell_type": "code",
   "execution_count": 13,
   "metadata": {
    "tags": []
   },
   "outputs": [
    {
     "data": {
      "text/plain": [
       "1.584658004902268e-05"
      ]
     },
     "execution_count": 13,
     "metadata": {},
     "output_type": "execute_result"
    }
   ],
   "source": [
    "# Run your function here\n",
    "diameter_M87 = 2 * 1920657897488992.5\n",
    "calc_angular_size(diameter_M87, 5e25) # in arcseconds"
   ]
  },
  {
   "cell_type": "markdown",
   "metadata": {},
   "source": [
    "**7)** Add a doc-string to your function `schwarzschild_radius` with instructions for a future user (or future you!). Doc-strings are REALLY important when working on a long term research project. You will likely need to go back to code you write a couple of weeks/months/years ago and you need to understand what it does. In addition to adding doc-strings, make sure you comment your code. I always add comments with units for constants, because this can help clarify bugs later on! Check back to your functions notebook from class if you need to remember the syntax for adding a doc-string."
   ]
  },
  {
   "cell_type": "code",
   "execution_count": 14,
   "metadata": {
    "tags": []
   },
   "outputs": [],
   "source": [
    "# Write your function here, with docstrings and comments\n",
    "# Define your function in this cell\n",
    "def calc_schwarzschild_radius(black_hole_mass, M_in_grams=False):\n",
    "    '''\n",
    "    Calculates the Schwarzschild Radius of a black hole in centmeters\n",
    "    \n",
    "    Input: \n",
    "        black_hole_mass: mass of the black hole in solar masses\n",
    "        M_in_grams: (NOT part of HW, used to calculate BH mass if input is grams)\n",
    "    Output: \n",
    "        R_s_cm: the Schwarzschild Radius in centimeters\n",
    "        R_s_sun: the Schwarzschild Radius in solar radii\n",
    "    '''\n",
    "    \n",
    "    # Define constants c, G, M_sun, R_sun\n",
    "    G = 6.6725985E-8 #cm^3 g^-1 s^-2\n",
    "    c = 2.99792458E10 #cm s^-1\n",
    "    M_sun = 1.99e33 # grams\n",
    "    R_sun = 6.96E10 # cm\n",
    "    \n",
    "    black_hole_mass = black_hole_mass * M_sun\n",
    "    \n",
    "    # Ignore this block, this changes whether the input is in grams or solar masses\n",
    "    if M_in_grams == True:\n",
    "        black_hole_mass /= 1.99 * 10 ** 33 # do this if input is in grams\n",
    "        \n",
    "\n",
    "    # Calculate radius of the black hole in cm\n",
    "    R_s_cm = 2 * G * black_hole_mass / c ** 2\n",
    "    \n",
    "    # Calculate radius of the black hole in solar radii\n",
    "    R_s_sun = R_s_cm / R_sun\n",
    "    \n",
    "    return R_s_cm, R_s_sun"
   ]
  },
  {
   "cell_type": "markdown",
   "metadata": {},
   "source": [
    "Now use the Jupyter notebook help functionality to view your doc string for your new function! If you execute the cell below like you do when you're running code, the information in your doc-string should show up."
   ]
  },
  {
   "cell_type": "code",
   "execution_count": 15,
   "metadata": {
    "tags": []
   },
   "outputs": [
    {
     "data": {
      "text/plain": [
       "\u001b[0;31mSignature:\u001b[0m \u001b[0mcalc_schwarzschild_radius\u001b[0m\u001b[0;34m(\u001b[0m\u001b[0mblack_hole_mass\u001b[0m\u001b[0;34m,\u001b[0m \u001b[0mM_in_grams\u001b[0m\u001b[0;34m=\u001b[0m\u001b[0;32mFalse\u001b[0m\u001b[0;34m)\u001b[0m\u001b[0;34m\u001b[0m\u001b[0;34m\u001b[0m\u001b[0m\n",
       "\u001b[0;31mDocstring:\u001b[0m\n",
       "Calculates the Schwarzschild Radius of a black hole in centmeters\n",
       "\n",
       "Input: \n",
       "    black_hole_mass: mass of the black hole in solar masses\n",
       "    M_in_grams: (NOT part of HW, used to calculate BH mass if input is grams)\n",
       "Output: \n",
       "    R_s_cm: the Schwarzschild Radius in centimeters\n",
       "    R_s_sun: the Schwarzschild Radius in solar radii\n",
       "\u001b[0;31mFile:\u001b[0m      /tmp/ipykernel_127/4181267706.py\n",
       "\u001b[0;31mType:\u001b[0m      function"
      ]
     },
     "metadata": {},
     "output_type": "display_data"
    }
   ],
   "source": [
    "calc_schwarzschild_radius?"
   ]
  },
  {
   "cell_type": "markdown",
   "metadata": {},
   "source": [
    "**8)**\n",
    "Now, let's incorporate some lists and loops to utilize our functions! Create a numpy array called `masses` that contains 10 values between 10 and 1,000,000 spaced logarithmically (there is a `numpy` function for this, be sure to read the documentation on that function carefully, it uses the arguments differently than linspace does). These values will be the masses of 10 black holes, for which we want to calculate the Schwarzschild radius. <br>"
   ]
  },
  {
   "cell_type": "code",
   "execution_count": 16,
   "metadata": {
    "tags": []
   },
   "outputs": [
    {
     "data": {
      "text/plain": [
       "\u001b[0;31mSignature:\u001b[0m\n",
       "\u001b[0mnp\u001b[0m\u001b[0;34m.\u001b[0m\u001b[0mlogspace\u001b[0m\u001b[0;34m(\u001b[0m\u001b[0;34m\u001b[0m\n",
       "\u001b[0;34m\u001b[0m    \u001b[0mstart\u001b[0m\u001b[0;34m,\u001b[0m\u001b[0;34m\u001b[0m\n",
       "\u001b[0;34m\u001b[0m    \u001b[0mstop\u001b[0m\u001b[0;34m,\u001b[0m\u001b[0;34m\u001b[0m\n",
       "\u001b[0;34m\u001b[0m    \u001b[0mnum\u001b[0m\u001b[0;34m=\u001b[0m\u001b[0;36m50\u001b[0m\u001b[0;34m,\u001b[0m\u001b[0;34m\u001b[0m\n",
       "\u001b[0;34m\u001b[0m    \u001b[0mendpoint\u001b[0m\u001b[0;34m=\u001b[0m\u001b[0;32mTrue\u001b[0m\u001b[0;34m,\u001b[0m\u001b[0;34m\u001b[0m\n",
       "\u001b[0;34m\u001b[0m    \u001b[0mbase\u001b[0m\u001b[0;34m=\u001b[0m\u001b[0;36m10.0\u001b[0m\u001b[0;34m,\u001b[0m\u001b[0;34m\u001b[0m\n",
       "\u001b[0;34m\u001b[0m    \u001b[0mdtype\u001b[0m\u001b[0;34m=\u001b[0m\u001b[0;32mNone\u001b[0m\u001b[0;34m,\u001b[0m\u001b[0;34m\u001b[0m\n",
       "\u001b[0;34m\u001b[0m    \u001b[0maxis\u001b[0m\u001b[0;34m=\u001b[0m\u001b[0;36m0\u001b[0m\u001b[0;34m,\u001b[0m\u001b[0;34m\u001b[0m\n",
       "\u001b[0;34m\u001b[0m\u001b[0;34m)\u001b[0m\u001b[0;34m\u001b[0m\u001b[0;34m\u001b[0m\u001b[0m\n",
       "\u001b[0;31mDocstring:\u001b[0m\n",
       "Return numbers spaced evenly on a log scale.\n",
       "\n",
       "In linear space, the sequence starts at ``base ** start``\n",
       "(`base` to the power of `start`) and ends with ``base ** stop``\n",
       "(see `endpoint` below).\n",
       "\n",
       ".. versionchanged:: 1.16.0\n",
       "    Non-scalar `start` and `stop` are now supported.\n",
       "\n",
       "Parameters\n",
       "----------\n",
       "start : array_like\n",
       "    ``base ** start`` is the starting value of the sequence.\n",
       "stop : array_like\n",
       "    ``base ** stop`` is the final value of the sequence, unless `endpoint`\n",
       "    is False.  In that case, ``num + 1`` values are spaced over the\n",
       "    interval in log-space, of which all but the last (a sequence of\n",
       "    length `num`) are returned.\n",
       "num : integer, optional\n",
       "    Number of samples to generate.  Default is 50.\n",
       "endpoint : boolean, optional\n",
       "    If true, `stop` is the last sample. Otherwise, it is not included.\n",
       "    Default is True.\n",
       "base : array_like, optional\n",
       "    The base of the log space. The step size between the elements in\n",
       "    ``ln(samples) / ln(base)`` (or ``log_base(samples)``) is uniform.\n",
       "    Default is 10.0.\n",
       "dtype : dtype\n",
       "    The type of the output array.  If `dtype` is not given, the data type\n",
       "    is inferred from `start` and `stop`. The inferred type will never be\n",
       "    an integer; `float` is chosen even if the arguments would produce an\n",
       "    array of integers.\n",
       "axis : int, optional\n",
       "    The axis in the result to store the samples.  Relevant only if start\n",
       "    or stop are array-like.  By default (0), the samples will be along a\n",
       "    new axis inserted at the beginning. Use -1 to get an axis at the end.\n",
       "\n",
       "    .. versionadded:: 1.16.0\n",
       "\n",
       "\n",
       "Returns\n",
       "-------\n",
       "samples : ndarray\n",
       "    `num` samples, equally spaced on a log scale.\n",
       "\n",
       "See Also\n",
       "--------\n",
       "arange : Similar to linspace, with the step size specified instead of the\n",
       "         number of samples. Note that, when used with a float endpoint, the\n",
       "         endpoint may or may not be included.\n",
       "linspace : Similar to logspace, but with the samples uniformly distributed\n",
       "           in linear space, instead of log space.\n",
       "geomspace : Similar to logspace, but with endpoints specified directly.\n",
       ":ref:`how-to-partition`\n",
       "\n",
       "Notes\n",
       "-----\n",
       "Logspace is equivalent to the code\n",
       "\n",
       ">>> y = np.linspace(start, stop, num=num, endpoint=endpoint)\n",
       "... # doctest: +SKIP\n",
       ">>> power(base, y).astype(dtype)\n",
       "... # doctest: +SKIP\n",
       "\n",
       "Examples\n",
       "--------\n",
       ">>> np.logspace(2.0, 3.0, num=4)\n",
       "array([ 100.        ,  215.443469  ,  464.15888336, 1000.        ])\n",
       ">>> np.logspace(2.0, 3.0, num=4, endpoint=False)\n",
       "array([100.        ,  177.827941  ,  316.22776602,  562.34132519])\n",
       ">>> np.logspace(2.0, 3.0, num=4, base=2.0)\n",
       "array([4.        ,  5.0396842 ,  6.34960421,  8.        ])\n",
       "\n",
       "Graphical illustration:\n",
       "\n",
       ">>> import matplotlib.pyplot as plt\n",
       ">>> N = 10\n",
       ">>> x1 = np.logspace(0.1, 1, N, endpoint=True)\n",
       ">>> x2 = np.logspace(0.1, 1, N, endpoint=False)\n",
       ">>> y = np.zeros(N)\n",
       ">>> plt.plot(x1, y, 'o')\n",
       "[<matplotlib.lines.Line2D object at 0x...>]\n",
       ">>> plt.plot(x2, y + 0.5, 'o')\n",
       "[<matplotlib.lines.Line2D object at 0x...>]\n",
       ">>> plt.ylim([-0.5, 1])\n",
       "(-0.5, 1)\n",
       ">>> plt.show()\n",
       "\u001b[0;31mFile:\u001b[0m      /opt/conda/lib/python3.10/site-packages/numpy/core/function_base.py\n",
       "\u001b[0;31mType:\u001b[0m      function"
      ]
     },
     "metadata": {},
     "output_type": "display_data"
    }
   ],
   "source": [
    "np.logspace?"
   ]
  },
  {
   "cell_type": "markdown",
   "metadata": {},
   "source": [
    "**<font color='red'>Instructions never specified whether to use grams or solar masses for the logspace. Solutions for both are presented below</font>**"
   ]
  },
  {
   "cell_type": "code",
   "execution_count": 17,
   "metadata": {
    "tags": []
   },
   "outputs": [
    {
     "name": "stdout",
     "output_type": "stream",
     "text": [
      "[1.00000000e+01 3.59381366e+01 1.29154967e+02 4.64158883e+02\n",
      " 1.66810054e+03 5.99484250e+03 2.15443469e+04 7.74263683e+04\n",
      " 2.78255940e+05 1.00000000e+06]\n"
     ]
    }
   ],
   "source": [
    "# Create your numpy array in this cell\n",
    "masses = np.logspace(1, 6, 10)\n",
    "print(masses)"
   ]
  },
  {
   "cell_type": "markdown",
   "metadata": {},
   "source": [
    "For this assignment you will create two different `for` loops in the cells below. Write the first `for` loop in the first cell, and the second `for` loop in the second cell. Both loops will be `for` loops that run your `calc_schwarzschild_radius` function on each black hole mass in the array you created above, assuming the masses are in solar mass units. You should include a `print` statement in each loop before you call the `calc_schwarzschild_radius` function that prints out the current black hole mass. <br>\n",
    "\n",
    "Look back at the notebook titled `05-control_flow_Lastname` and scroll to Example 7. **First**, you will make a `for` loop that follows the syntax of the first loop in that example (`for price in prices_list:`). **Second**, you will make a `for` loop that follows the syntax in the next code cell (`for i in range(5):`) where the range is the length of your `masses` array."
   ]
  },
  {
   "cell_type": "markdown",
   "metadata": {},
   "source": [
    "**<font color='red'>If input is in grams</font>**"
   ]
  },
  {
   "cell_type": "code",
   "execution_count": 18,
   "metadata": {
    "tags": []
   },
   "outputs": [
    {
     "name": "stdout",
     "output_type": "stream",
     "text": [
      "(1.4848534190096579e-27, 2.1334100847839912e-38)\n",
      "(5.3362865059839256e-27, 7.667078313195295e-38)\n",
      "(1.917761935918129e-26, 2.7554050803421395e-37)\n",
      "(6.892079049226989e-26, 9.902412427050273e-37)\n",
      "(2.476884785913355e-25, 3.5587425084962e-36)\n",
      "(8.90146238728521e-25, 1.2789457452995993e-35)\n",
      "(3.1990197155268595e-24, 4.5962926947224994e-35)\n",
      "(1.1496680764440816e-23, 1.6518219489139104e-34)\n",
      "(4.1316928419647204e-23, 5.936340290179196e-34)\n",
      "(1.4848534190096582e-22, 2.1334100847839915e-33)\n"
     ]
    }
   ],
   "source": [
    "# Write your for loop that follows the \"for price in prices_list\" syntax here\n",
    "for mass in masses:\n",
    "    print(calc_schwarzschild_radius(mass, M_in_grams=True))"
   ]
  },
  {
   "cell_type": "code",
   "execution_count": 19,
   "metadata": {},
   "outputs": [
    {
     "name": "stdout",
     "output_type": "stream",
     "text": [
      "(1.4848534190096579e-27, 2.1334100847839912e-38)\n",
      "(5.3362865059839256e-27, 7.667078313195295e-38)\n",
      "(1.917761935918129e-26, 2.7554050803421395e-37)\n",
      "(6.892079049226989e-26, 9.902412427050273e-37)\n",
      "(2.476884785913355e-25, 3.5587425084962e-36)\n",
      "(8.90146238728521e-25, 1.2789457452995993e-35)\n",
      "(3.1990197155268595e-24, 4.5962926947224994e-35)\n",
      "(1.1496680764440816e-23, 1.6518219489139104e-34)\n",
      "(4.1316928419647204e-23, 5.936340290179196e-34)\n",
      "(1.4848534190096582e-22, 2.1334100847839915e-33)\n"
     ]
    }
   ],
   "source": [
    "# Write your for loop that follows the \"for i in range(5):\" syntax here\n",
    "for i in range(len(masses)):\n",
    "    print(calc_schwarzschild_radius(masses[i], M_in_grams=True))"
   ]
  },
  {
   "cell_type": "markdown",
   "metadata": {},
   "source": [
    "**<font color='red'>If input is in Solar Masses</font>**"
   ]
  },
  {
   "cell_type": "code",
   "execution_count": 20,
   "metadata": {
    "tags": []
   },
   "outputs": [
    {
     "name": "stdout",
     "output_type": "stream",
     "text": [
      "(2954858.303829219, 4.2454860687201425e-05)\n",
      "(10619210.146908013, 0.0001525748584325864)\n",
      "(38163462.52477076, 0.0005483256109880857)\n",
      "(137152373.07961708, 0.001970580072983004)\n",
      "(492900072.3967576, 0.0070818975919074365)\n",
      "(1771391015.0697567, 0.025451020331462022)\n",
      "(6366049233.89845, 0.09146622462497773)\n",
      "(22878394721.23722, 0.3287125678338681)\n",
      "(82220687555.09793, 1.18133171774566)\n",
      "(295485830382.9219, 4.245486068720142)\n"
     ]
    }
   ],
   "source": [
    "# Write your for loop that follows the \"for price in prices_list\" syntax here\n",
    "for mass in masses:\n",
    "    print(calc_schwarzschild_radius(mass))"
   ]
  },
  {
   "cell_type": "code",
   "execution_count": 21,
   "metadata": {},
   "outputs": [
    {
     "name": "stdout",
     "output_type": "stream",
     "text": [
      "(2954858.303829219, 4.2454860687201425e-05)\n",
      "(10619210.146908013, 0.0001525748584325864)\n",
      "(38163462.52477076, 0.0005483256109880857)\n",
      "(137152373.07961708, 0.001970580072983004)\n",
      "(492900072.3967576, 0.0070818975919074365)\n",
      "(1771391015.0697567, 0.025451020331462022)\n",
      "(6366049233.89845, 0.09146622462497773)\n",
      "(22878394721.23722, 0.3287125678338681)\n",
      "(82220687555.09793, 1.18133171774566)\n",
      "(295485830382.9219, 4.245486068720142)\n"
     ]
    }
   ],
   "source": [
    "# Write your for loop that follows the \"for i in range(5):\" syntax here\n",
    "for i in range(len(masses)):\n",
    "    print(calc_schwarzschild_radius(masses[i]))"
   ]
  },
  {
   "cell_type": "markdown",
   "metadata": {},
   "source": [
    "**9)**\n",
    "Now copy your second `for` loop from the previous question into the cell below and edit it so that you only print out the black hole mass for the even-indexed black hole masses (indexes of 0, 2, 4, ...). You still want to calculate the Schwarzschild radius for each black hole mass."
   ]
  },
  {
   "cell_type": "markdown",
   "metadata": {},
   "source": [
    "**<font color='red'>If input is in grams</font>**"
   ]
  },
  {
   "cell_type": "code",
   "execution_count": 22,
   "metadata": {},
   "outputs": [
    {
     "name": "stdout",
     "output_type": "stream",
     "text": [
      "(1.4848534190096579e-27, 2.1334100847839912e-38)\n",
      "(1.917761935918129e-26, 2.7554050803421395e-37)\n",
      "(2.476884785913355e-25, 3.5587425084962e-36)\n",
      "(3.1990197155268595e-24, 4.5962926947224994e-35)\n",
      "(4.1316928419647204e-23, 5.936340290179196e-34)\n"
     ]
    }
   ],
   "source": [
    "# Print out the Schwarzschild radius for the even-indexed black hole masses here\n",
    "for i in range(len(masses)):\n",
    "    if i % 2 == 0:\n",
    "        print(calc_schwarzschild_radius(masses[i], M_in_grams=True))"
   ]
  },
  {
   "cell_type": "markdown",
   "metadata": {
    "tags": []
   },
   "source": [
    "**<font color='red'>If input is in Solar Masses</font>**"
   ]
  },
  {
   "cell_type": "code",
   "execution_count": 24,
   "metadata": {
    "tags": []
   },
   "outputs": [
    {
     "name": "stdout",
     "output_type": "stream",
     "text": [
      "(2954858.303829219, 4.2454860687201425e-05)\n",
      "(38163462.52477076, 0.0005483256109880857)\n",
      "(492900072.3967576, 0.0070818975919074365)\n",
      "(6366049233.89845, 0.09146622462497773)\n",
      "(82220687555.09793, 1.18133171774566)\n"
     ]
    }
   ],
   "source": [
    "# Print out the Schwarzschild radius for the even-indexed black hole masses here\n",
    "for i in range(len(masses)):\n",
    "    if i % 2 == 0:\n",
    "        print(calc_schwarzschild_radius(masses[i]))"
   ]
  },
  {
   "cell_type": "markdown",
   "metadata": {},
   "source": [
    "# Optional aside on astropy units\n",
    "\n",
    "The astropy module has functions to handle unit conversion and calculations with units. The usual way of importing astropy units is\n",
    "\n",
    "```import astropy.units as u```\n",
    "\n",
    "You can also import constants from astropy as well, using the following syntax\n",
    "\n",
    "```from astropy.constants import c, G, pi # import speed of light, gravitational constant and pi```\n",
    "\n",
    "To use units, you will multipy the value (i.e. the number) by ```u.unit``` replacing *unit* with your specific unit (e.g. meters, kilograms, seconds, etc). For example, you can calculate the gravitational force between the Earth and the sun:\n",
    "\n",
    "```\n",
    "import astropy.units as u\n",
    "from astropy.constants import G, M_earth, M_sun\n",
    "\n",
    "force = G * M_earth * M_sun / (1 * u.AU) ** 2 # 1 A.U. is the distance between Earth and the Sun\n",
    "print(force)\n",
    "\n",
    "# Reduce units to MKS units\n",
    "print(force.decompose())\n",
    "\n",
    "# Convert force to Newtons\n",
    "print(force.to(u.N))\n",
    "```"
   ]
  },
  {
   "cell_type": "code",
   "execution_count": null,
   "metadata": {
    "tags": []
   },
   "outputs": [],
   "source": [
    "import astropy.units as u\n",
    "from astropy.constants import G, M_earth, M_sun\n",
    "\n",
    "force = G * M_earth * M_sun / (1 * u.AU) ** 2 # 1 A.U. is the distance between Earth and the Sun\n",
    "print(force)\n",
    "\n",
    "# Reduce units to MKS units\n",
    "print(force.decompose())\n",
    "\n",
    "# Convert force to Newtons\n",
    "print(force.to(u.N))"
   ]
  },
  {
   "cell_type": "code",
   "execution_count": null,
   "metadata": {
    "tags": []
   },
   "outputs": [],
   "source": [
    "# Convert 1 A.U. to centimeters\n",
    "print((1 * u.AU).to(u.cm))\n",
    "\n",
    "# Convert mass of the sun to grams\n",
    "print((M_sun).to(u.g))"
   ]
  },
  {
   "cell_type": "markdown",
   "metadata": {},
   "source": []
  }
 ],
 "metadata": {
  "kernelspec": {
   "display_name": "Python 3 (ipykernel)",
   "language": "python",
   "name": "python3"
  },
  "language_info": {
   "codemirror_mode": {
    "name": "ipython",
    "version": 3
   },
   "file_extension": ".py",
   "mimetype": "text/x-python",
   "name": "python",
   "nbconvert_exporter": "python",
   "pygments_lexer": "ipython3",
   "version": "3.10.10"
  }
 },
 "nbformat": 4,
 "nbformat_minor": 4
}
